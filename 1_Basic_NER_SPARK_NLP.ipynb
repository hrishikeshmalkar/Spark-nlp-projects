{
  "nbformat": 4,
  "nbformat_minor": 0,
  "metadata": {
    "colab": {
      "name": "1-Basic_NER_SPARK-NLP.ipynb",
      "provenance": [],
      "collapsed_sections": [],
      "authorship_tag": "ABX9TyNCJk1SFj1jJ/MjQClUDpvJ",
      "include_colab_link": true
    },
    "kernelspec": {
      "name": "python3",
      "display_name": "Python 3"
    },
    "language_info": {
      "name": "python"
    }
  },
  "cells": [
    {
      "cell_type": "markdown",
      "metadata": {
        "id": "view-in-github",
        "colab_type": "text"
      },
      "source": [
        "<a href=\"https://colab.research.google.com/github/hrishikeshmalkar/Spark-nlp-projects/blob/main/1_Basic_NER_SPARK_NLP.ipynb\" target=\"_parent\"><img src=\"https://colab.research.google.com/assets/colab-badge.svg\" alt=\"Open In Colab\"/></a>"
      ]
    },
    {
      "cell_type": "markdown",
      "metadata": {
        "id": "nHXYPkfnOSsZ"
      },
      "source": [
        "#### Setting Spark Environment"
      ]
    },
    {
      "cell_type": "code",
      "metadata": {
        "colab": {
          "base_uri": "https://localhost:8080/"
        },
        "id": "-MIbeYYYOGZn",
        "outputId": "a44134d4-3e98-4e4d-f31f-466d61595a3e"
      },
      "source": [
        "!wget https://raw.githubusercontent.com/JohnSnowLabs/spark-nlp/master/scripts/colab_setup.sh\n",
        "!bash colab_setup.sh"
      ],
      "execution_count": null,
      "outputs": [
        {
          "output_type": "stream",
          "text": [
            "--2021-04-12 13:41:23--  https://raw.githubusercontent.com/JohnSnowLabs/spark-nlp/master/scripts/colab_setup.sh\n",
            "Resolving raw.githubusercontent.com (raw.githubusercontent.com)... 185.199.108.133, 185.199.111.133, 185.199.109.133, ...\n",
            "Connecting to raw.githubusercontent.com (raw.githubusercontent.com)|185.199.108.133|:443... connected.\n",
            "HTTP request sent, awaiting response... 200 OK\n",
            "Length: 1593 (1.6K) [text/plain]\n",
            "Saving to: ‘colab_setup.sh.1’\n",
            "\n",
            "\rcolab_setup.sh.1      0%[                    ]       0  --.-KB/s               \rcolab_setup.sh.1    100%[===================>]   1.56K  --.-KB/s    in 0s      \n",
            "\n",
            "2021-04-12 13:41:23 (28.7 MB/s) - ‘colab_setup.sh.1’ saved [1593/1593]\n",
            "\n",
            "setup Colab for PySpark 3.1.1 and Spark NLP 3.0.1\n"
          ],
          "name": "stdout"
        }
      ]
    },
    {
      "cell_type": "code",
      "metadata": {
        "id": "4qIUyzvbPa6T"
      },
      "source": [
        "#If we want specific version of pyspark and spark nlp follow belowed code\n",
        "#!bash colab_setup.sh -p 2.4.4 -s 2.7.5\n",
        "\n",
        "# Where -p is for pyspark and -s is for spark-nlp\n",
        "# by default they are set to the latest"
      ],
      "execution_count": null,
      "outputs": []
    },
    {
      "cell_type": "markdown",
      "metadata": {
        "id": "t-qCKZWgOnew"
      },
      "source": [
        "#### Importing required libraries"
      ]
    },
    {
      "cell_type": "code",
      "metadata": {
        "id": "pQzIVmQUOgC2"
      },
      "source": [
        "import sparknlp\n",
        "from sparknlp.base import *\n",
        "from sparknlp.annotator import *\n",
        "from pyspark.ml import Pipeline\n",
        "import pyspark.sql.functions as F"
      ],
      "execution_count": null,
      "outputs": []
    },
    {
      "cell_type": "markdown",
      "metadata": {
        "id": "R1JJ_pBpQrMJ"
      },
      "source": [
        "#### Starting Spark Session"
      ]
    },
    {
      "cell_type": "code",
      "metadata": {
        "id": "7zOAED70PwmZ"
      },
      "source": [
        "spark = sparknlp.start()\n",
        "\n",
        "# params =>> gpu=False, spark23=False (start with spark 2.3)"
      ],
      "execution_count": null,
      "outputs": []
    },
    {
      "cell_type": "code",
      "metadata": {
        "colab": {
          "base_uri": "https://localhost:8080/"
        },
        "id": "n5LNgTwTQKKB",
        "outputId": "de785805-e5c4-4ace-9549-603705a5f40d"
      },
      "source": [
        "print(\"Spark NLP version\", sparknlp.version())\n",
        "print(\"Apache Spark version:\", spark.version)"
      ],
      "execution_count": null,
      "outputs": [
        {
          "output_type": "stream",
          "text": [
            "Spark NLP version 3.0.1\n",
            "Apache Spark version: 3.1.1\n"
          ],
          "name": "stdout"
        }
      ]
    },
    {
      "cell_type": "markdown",
      "metadata": {
        "id": "des3ZzDMUYfJ"
      },
      "source": [
        "#### Now, using pretrained pipeline (Provided by JohnSnowLabs)"
      ]
    },
    {
      "cell_type": "code",
      "metadata": {
        "id": "o5mSYotxRHaw"
      },
      "source": [
        "from sparknlp.pretrained import PretrainedPipeline"
      ],
      "execution_count": null,
      "outputs": []
    },
    {
      "cell_type": "code",
      "metadata": {
        "colab": {
          "base_uri": "https://localhost:8080/"
        },
        "id": "7ajjMuMOUo1_",
        "outputId": "b38d9433-3151-4a79-cd42-f1df36676e85"
      },
      "source": [
        "#### Using 'explain_doucument_dl' English pipeline\n",
        "pipeline_dl = PretrainedPipeline('explain_document_dl', lang='en')"
      ],
      "execution_count": null,
      "outputs": [
        {
          "output_type": "stream",
          "text": [
            "explain_document_dl download started this may take some time.\n",
            "Approx size to download 169.3 MB\n",
            "[OK!]\n"
          ],
          "name": "stdout"
        }
      ]
    },
    {
      "cell_type": "markdown",
      "metadata": {
        "id": "UaqrisLMVEQi"
      },
      "source": [
        "# **Stages**\n",
        "- DocumentAssembler\n",
        "- SentenceDetector\n",
        "- Tokenizer\n",
        "- NER (NER with GloVe 100D embeddings, CoNLL2003 dataset)\n",
        "- Lemmatizer\n",
        "- Stemmer\n",
        "- Part of Speech\n",
        "- SpellChecker (Norvig)\n"
      ]
    },
    {
      "cell_type": "code",
      "metadata": {
        "id": "LzR5q1VdVE-X"
      },
      "source": [
        "testMsg1 = '''\n",
        "Peter Parker is a very good persn.\n",
        "My life in Russia is very intersting.\n",
        "John and Peter are brothrs. However they don't support each other that much.\n",
        "Mercedes Benz is also working on a driverless car.\n",
        "Europe is very culture rich. There are huge churches! and big houses!\n",
        "'''"
      ],
      "execution_count": null,
      "outputs": []
    },
    {
      "cell_type": "code",
      "metadata": {
        "id": "sdAn8kiKW3TW"
      },
      "source": [
        "result = pipeline_dl.annotate(testMsg1)"
      ],
      "execution_count": null,
      "outputs": []
    },
    {
      "cell_type": "markdown",
      "metadata": {
        "id": "n4A1IJ88bcai"
      },
      "source": [
        "##### stages"
      ]
    },
    {
      "cell_type": "code",
      "metadata": {
        "colab": {
          "base_uri": "https://localhost:8080/"
        },
        "id": "dQ4Z3VJyW-xQ",
        "outputId": "73d4f4c5-fa0b-4273-b9e8-3e5a2db58b0a"
      },
      "source": [
        "result.keys()"
      ],
      "execution_count": null,
      "outputs": [
        {
          "output_type": "execute_result",
          "data": {
            "text/plain": [
              "dict_keys(['entities', 'stem', 'checked', 'lemma', 'document', 'pos', 'token', 'ner', 'embeddings', 'sentence'])"
            ]
          },
          "metadata": {
            "tags": []
          },
          "execution_count": 17
        }
      ]
    },
    {
      "cell_type": "markdown",
      "metadata": {
        "id": "kT5IoEO9biMX"
      },
      "source": [
        "##### Entities in paragraph"
      ]
    },
    {
      "cell_type": "code",
      "metadata": {
        "colab": {
          "base_uri": "https://localhost:8080/"
        },
        "id": "yu2Skny7XG4k",
        "outputId": "1a83eda9-76ad-415a-e73b-b3937907d258"
      },
      "source": [
        "result['entities']"
      ],
      "execution_count": null,
      "outputs": [
        {
          "output_type": "execute_result",
          "data": {
            "text/plain": [
              "['Peter Parker', 'Russia', 'John', 'Peter', 'Mercedes Benz', 'Europe']"
            ]
          },
          "metadata": {
            "tags": []
          },
          "execution_count": 18
        }
      ]
    },
    {
      "cell_type": "code",
      "metadata": {
        "id": "9IJPQgiFWtdP"
      },
      "source": [
        "testMsg2 = '''\n",
        "Billionaire Gautam Adani announced that Flipkart and Adani Group have inked a deal where AdaniConneX will build Flipkart's new data centre in Chennai. \n",
        "As part of the deal, Adani Logistics will ulso build Flipkart's 5,34,000 sq ft fulfilment centre in Mumbai. \n",
        "The facility will enhance locl dmployment and create 2,500 direct jobs and thousands of indirect jobs, Flipkart said.\n",
        "'''"
      ],
      "execution_count": null,
      "outputs": []
    },
    {
      "cell_type": "code",
      "metadata": {
        "id": "oKdbCb3uXRJ1"
      },
      "source": [
        "result1 = pipeline_dl.annotate(testMsg2)"
      ],
      "execution_count": null,
      "outputs": []
    },
    {
      "cell_type": "markdown",
      "metadata": {
        "id": "ZcGwiReubuDV"
      },
      "source": [
        "##### Entities in paragraph"
      ]
    },
    {
      "cell_type": "code",
      "metadata": {
        "colab": {
          "base_uri": "https://localhost:8080/"
        },
        "id": "yWVu-_vhXccV",
        "outputId": "a730bdae-92a2-4481-c930-31c4426408f5"
      },
      "source": [
        "result1['entities']"
      ],
      "execution_count": null,
      "outputs": [
        {
          "output_type": "execute_result",
          "data": {
            "text/plain": [
              "['Gautam Adani',\n",
              " 'Flipkart',\n",
              " 'Adani Group',\n",
              " 'AdaniConneX',\n",
              " \"Flipkart's\",\n",
              " 'Chennai',\n",
              " 'Adani Logistics',\n",
              " 'Mumbai',\n",
              " 'Flipkart']"
            ]
          },
          "metadata": {
            "tags": []
          },
          "execution_count": 25
        }
      ]
    },
    {
      "cell_type": "code",
      "metadata": {
        "colab": {
          "base_uri": "https://localhost:8080/"
        },
        "id": "HPHtUHZNXfR1",
        "outputId": "fd0b756e-7f69-4c9c-dcf2-4cd843ba190a"
      },
      "source": [
        "result1['sentence']"
      ],
      "execution_count": null,
      "outputs": [
        {
          "output_type": "execute_result",
          "data": {
            "text/plain": [
              "[\"Billionaire Gautam Adani announced that Flipkart and Adani Group have inked a deal where AdaniConneX will build Flipkart's new data centre in Chennai.\",\n",
              " \"As part of the deal, Adani Logistics will ulso build Flipkart's 5,34,000 sq ft fulfilment centre in Mumbai.\",\n",
              " 'The facility will enhance locl dmployment and create 2,500 direct jobs and thousands of indirect jobs, Flipkart said.']"
            ]
          },
          "metadata": {
            "tags": []
          },
          "execution_count": 26
        }
      ]
    },
    {
      "cell_type": "markdown",
      "metadata": {
        "id": "-nRbjreHbzEC"
      },
      "source": [
        "##### Identifying tokens, lemmas, stems and wrong spelling using checked in paragraph."
      ]
    },
    {
      "cell_type": "code",
      "metadata": {
        "colab": {
          "base_uri": "https://localhost:8080/"
        },
        "id": "D-N_-2iNYA0U",
        "outputId": "a1601af2-900f-48f6-c3c4-3b6b2b1d4548"
      },
      "source": [
        "list(zip(result1['token'], result1['lemma'], result1['stem'], result1['checkeda']))"
      ],
      "execution_count": null,
      "outputs": [
        {
          "output_type": "execute_result",
          "data": {
            "text/plain": [
              "[('Billionaire', 'Billionaire', 'billionair', 'Billionaire'),\n",
              " ('Gautam', 'Gautama', 'gautama', 'Gautama'),\n",
              " ('Adani', 'Adani', 'adani', 'Adani'),\n",
              " ('announced', 'announce', 'announc', 'announced'),\n",
              " ('that', 'that', 'that', 'that'),\n",
              " ('Flipkart', 'Flipkart', 'flipkart', 'Flipkart'),\n",
              " ('and', 'and', 'and', 'and'),\n",
              " ('Adani', 'Adani', 'adani', 'Adani'),\n",
              " ('Group', 'Group', 'group', 'Group'),\n",
              " ('have', 'have', 'have', 'have'),\n",
              " ('inked', 'ink', 'ink', 'inked'),\n",
              " ('a', 'a', 'a', 'a'),\n",
              " ('deal', 'deal', 'deal', 'deal'),\n",
              " ('where', 'where', 'where', 'where'),\n",
              " ('AdaniConneX', 'AdaniConneX', 'adaniconnex', 'AdaniConneX'),\n",
              " ('will', 'will', 'will', 'will'),\n",
              " ('build', 'build', 'build', 'build'),\n",
              " (\"Flipkart's\", \"Flipkart's\", \"flipkart'\", \"Flipkart's\"),\n",
              " ('new', 'new', 'new', 'new'),\n",
              " ('data', 'data', 'data', 'data'),\n",
              " ('centre', 'centre', 'centr', 'centre'),\n",
              " ('in', 'in', 'in', 'in'),\n",
              " ('Chennai', 'Chenoa', 'chenoa', 'Chenoa'),\n",
              " ('.', '.', '.', '.'),\n",
              " ('As', 'As', 'a', 'As'),\n",
              " ('part', 'part', 'part', 'part'),\n",
              " ('of', 'of', 'of', 'of'),\n",
              " ('the', 'the', 'the', 'the'),\n",
              " ('deal', 'deal', 'deal', 'deal'),\n",
              " (',', ',', ',', ','),\n",
              " ('Adani', 'Adani', 'adani', 'Adani'),\n",
              " ('Logistics', 'logistics', 'logist', 'logistics'),\n",
              " ('will', 'will', 'will', 'will'),\n",
              " ('ulso', 'also', 'also', 'also'),\n",
              " ('build', 'build', 'build', 'build'),\n",
              " (\"Flipkart's\", \"Flipkart's\", \"flipkart'\", \"Flipkart's\"),\n",
              " ('5,34,000', '5,34,000', '5,34,000', '5,34,000'),\n",
              " ('sq', 'sq', 'sq', 'sq'),\n",
              " ('ft', 'ft', 'ft', 'ft'),\n",
              " ('fulfilment', 'fulfilment', 'fulfil', 'fulfilment'),\n",
              " ('centre', 'centre', 'centr', 'centre'),\n",
              " ('in', 'in', 'in', 'in'),\n",
              " ('Mumbai', 'Mumbai', 'mumbai', 'Mumbai'),\n",
              " ('.', '.', '.', '.'),\n",
              " ('The', 'The', 'the', 'The'),\n",
              " ('facility', 'facility', 'facil', 'facility'),\n",
              " ('will', 'will', 'will', 'will'),\n",
              " ('enhance', 'enhance', 'enhanc', 'enhance'),\n",
              " ('locl', 'local', 'local', 'local'),\n",
              " ('dmployment', 'employment', 'employ', 'employment'),\n",
              " ('and', 'and', 'and', 'and'),\n",
              " ('create', 'create', 'creat', 'create'),\n",
              " ('2,500', '2,500', '2,500', '2,500'),\n",
              " ('direct', 'direct', 'direct', 'direct'),\n",
              " ('jobs', 'job', 'job', 'jobs'),\n",
              " ('and', 'and', 'and', 'and'),\n",
              " ('thousands', 'thousands', 'thousand', 'thousands'),\n",
              " ('of', 'of', 'of', 'of'),\n",
              " ('indirect', 'indirect', 'indirect', 'indirect'),\n",
              " ('jobs', 'job', 'job', 'jobs'),\n",
              " (',', ',', ',', ','),\n",
              " ('Flipkart', 'Flipkart', 'flipkart', 'Flipkart'),\n",
              " ('said', 'say', 'said', 'said'),\n",
              " ('.', '.', '.', '.')]"
            ]
          },
          "metadata": {
            "tags": []
          },
          "execution_count": 30
        }
      ]
    },
    {
      "cell_type": "markdown",
      "metadata": {
        "id": "meKVaQGhZD5u"
      },
      "source": [
        "#### Creating Data Frame"
      ]
    },
    {
      "cell_type": "code",
      "metadata": {
        "id": "j9lq2SgtYdj8"
      },
      "source": [
        "import pandas as pd\n",
        "\n",
        "df = pd.DataFrame({'Token':result1['token'], 'Ner_Label':result1['ner'],\n",
        "                      'Corrected_Spell':result1['checked'], 'POS':result1['pos'],\n",
        "                      'Lemmas':result1['lemma'], 'Stems':result1['stem']})"
      ],
      "execution_count": null,
      "outputs": []
    },
    {
      "cell_type": "code",
      "metadata": {
        "colab": {
          "base_uri": "https://localhost:8080/",
          "height": 194
        },
        "id": "KWWwK9MoZXSf",
        "outputId": "179a66e6-747a-49c9-c57b-388637c867e0"
      },
      "source": [
        "df.head()"
      ],
      "execution_count": null,
      "outputs": [
        {
          "output_type": "execute_result",
          "data": {
            "text/html": [
              "<div>\n",
              "<style scoped>\n",
              "    .dataframe tbody tr th:only-of-type {\n",
              "        vertical-align: middle;\n",
              "    }\n",
              "\n",
              "    .dataframe tbody tr th {\n",
              "        vertical-align: top;\n",
              "    }\n",
              "\n",
              "    .dataframe thead th {\n",
              "        text-align: right;\n",
              "    }\n",
              "</style>\n",
              "<table border=\"1\" class=\"dataframe\">\n",
              "  <thead>\n",
              "    <tr style=\"text-align: right;\">\n",
              "      <th></th>\n",
              "      <th>Token</th>\n",
              "      <th>Ner_Label</th>\n",
              "      <th>Corrected_Spell</th>\n",
              "      <th>POS</th>\n",
              "      <th>Lemmas</th>\n",
              "      <th>Stems</th>\n",
              "    </tr>\n",
              "  </thead>\n",
              "  <tbody>\n",
              "    <tr>\n",
              "      <th>0</th>\n",
              "      <td>Billionaire</td>\n",
              "      <td>O</td>\n",
              "      <td>Billionaire</td>\n",
              "      <td>NNP</td>\n",
              "      <td>Billionaire</td>\n",
              "      <td>billionair</td>\n",
              "    </tr>\n",
              "    <tr>\n",
              "      <th>1</th>\n",
              "      <td>Gautam</td>\n",
              "      <td>B-PER</td>\n",
              "      <td>Gautama</td>\n",
              "      <td>NNP</td>\n",
              "      <td>Gautama</td>\n",
              "      <td>gautama</td>\n",
              "    </tr>\n",
              "    <tr>\n",
              "      <th>2</th>\n",
              "      <td>Adani</td>\n",
              "      <td>I-PER</td>\n",
              "      <td>Adani</td>\n",
              "      <td>NNP</td>\n",
              "      <td>Adani</td>\n",
              "      <td>adani</td>\n",
              "    </tr>\n",
              "    <tr>\n",
              "      <th>3</th>\n",
              "      <td>announced</td>\n",
              "      <td>O</td>\n",
              "      <td>announced</td>\n",
              "      <td>VBD</td>\n",
              "      <td>announce</td>\n",
              "      <td>announc</td>\n",
              "    </tr>\n",
              "    <tr>\n",
              "      <th>4</th>\n",
              "      <td>that</td>\n",
              "      <td>O</td>\n",
              "      <td>that</td>\n",
              "      <td>IN</td>\n",
              "      <td>that</td>\n",
              "      <td>that</td>\n",
              "    </tr>\n",
              "  </tbody>\n",
              "</table>\n",
              "</div>"
            ],
            "text/plain": [
              "         Token Ner_Label Corrected_Spell  POS       Lemmas       Stems\n",
              "0  Billionaire         O     Billionaire  NNP  Billionaire  billionair\n",
              "1       Gautam     B-PER         Gautama  NNP      Gautama     gautama\n",
              "2        Adani     I-PER           Adani  NNP        Adani       adani\n",
              "3    announced         O       announced  VBD     announce     announc\n",
              "4         that         O            that   IN         that        that"
            ]
          },
          "metadata": {
            "tags": []
          },
          "execution_count": 32
        }
      ]
    },
    {
      "cell_type": "code",
      "metadata": {
        "colab": {
          "base_uri": "https://localhost:8080/",
          "height": 546
        },
        "id": "lEUD0W8XZYuj",
        "outputId": "07d1bda5-0351-4922-849b-794da53da543"
      },
      "source": [
        "df[33:50]"
      ],
      "execution_count": null,
      "outputs": [
        {
          "output_type": "execute_result",
          "data": {
            "text/html": [
              "<div>\n",
              "<style scoped>\n",
              "    .dataframe tbody tr th:only-of-type {\n",
              "        vertical-align: middle;\n",
              "    }\n",
              "\n",
              "    .dataframe tbody tr th {\n",
              "        vertical-align: top;\n",
              "    }\n",
              "\n",
              "    .dataframe thead th {\n",
              "        text-align: right;\n",
              "    }\n",
              "</style>\n",
              "<table border=\"1\" class=\"dataframe\">\n",
              "  <thead>\n",
              "    <tr style=\"text-align: right;\">\n",
              "      <th></th>\n",
              "      <th>Token</th>\n",
              "      <th>Ner_Label</th>\n",
              "      <th>Corrected_Spell</th>\n",
              "      <th>POS</th>\n",
              "      <th>Lemmas</th>\n",
              "      <th>Stems</th>\n",
              "    </tr>\n",
              "  </thead>\n",
              "  <tbody>\n",
              "    <tr>\n",
              "      <th>33</th>\n",
              "      <td>ulso</td>\n",
              "      <td>O</td>\n",
              "      <td>also</td>\n",
              "      <td>VB</td>\n",
              "      <td>also</td>\n",
              "      <td>also</td>\n",
              "    </tr>\n",
              "    <tr>\n",
              "      <th>34</th>\n",
              "      <td>build</td>\n",
              "      <td>O</td>\n",
              "      <td>build</td>\n",
              "      <td>VB</td>\n",
              "      <td>build</td>\n",
              "      <td>build</td>\n",
              "    </tr>\n",
              "    <tr>\n",
              "      <th>35</th>\n",
              "      <td>Flipkart's</td>\n",
              "      <td>O</td>\n",
              "      <td>Flipkart's</td>\n",
              "      <td>NNP</td>\n",
              "      <td>Flipkart's</td>\n",
              "      <td>flipkart'</td>\n",
              "    </tr>\n",
              "    <tr>\n",
              "      <th>36</th>\n",
              "      <td>5,34,000</td>\n",
              "      <td>O</td>\n",
              "      <td>5,34,000</td>\n",
              "      <td>CD</td>\n",
              "      <td>5,34,000</td>\n",
              "      <td>5,34,000</td>\n",
              "    </tr>\n",
              "    <tr>\n",
              "      <th>37</th>\n",
              "      <td>sq</td>\n",
              "      <td>O</td>\n",
              "      <td>sq</td>\n",
              "      <td>NN</td>\n",
              "      <td>sq</td>\n",
              "      <td>sq</td>\n",
              "    </tr>\n",
              "    <tr>\n",
              "      <th>38</th>\n",
              "      <td>ft</td>\n",
              "      <td>O</td>\n",
              "      <td>ft</td>\n",
              "      <td>NN</td>\n",
              "      <td>ft</td>\n",
              "      <td>ft</td>\n",
              "    </tr>\n",
              "    <tr>\n",
              "      <th>39</th>\n",
              "      <td>fulfilment</td>\n",
              "      <td>O</td>\n",
              "      <td>fulfilment</td>\n",
              "      <td>NN</td>\n",
              "      <td>fulfilment</td>\n",
              "      <td>fulfil</td>\n",
              "    </tr>\n",
              "    <tr>\n",
              "      <th>40</th>\n",
              "      <td>centre</td>\n",
              "      <td>O</td>\n",
              "      <td>centre</td>\n",
              "      <td>NN</td>\n",
              "      <td>centre</td>\n",
              "      <td>centr</td>\n",
              "    </tr>\n",
              "    <tr>\n",
              "      <th>41</th>\n",
              "      <td>in</td>\n",
              "      <td>O</td>\n",
              "      <td>in</td>\n",
              "      <td>IN</td>\n",
              "      <td>in</td>\n",
              "      <td>in</td>\n",
              "    </tr>\n",
              "    <tr>\n",
              "      <th>42</th>\n",
              "      <td>Mumbai</td>\n",
              "      <td>B-LOC</td>\n",
              "      <td>Mumbai</td>\n",
              "      <td>NNP</td>\n",
              "      <td>Mumbai</td>\n",
              "      <td>mumbai</td>\n",
              "    </tr>\n",
              "    <tr>\n",
              "      <th>43</th>\n",
              "      <td>.</td>\n",
              "      <td>O</td>\n",
              "      <td>.</td>\n",
              "      <td>.</td>\n",
              "      <td>.</td>\n",
              "      <td>.</td>\n",
              "    </tr>\n",
              "    <tr>\n",
              "      <th>44</th>\n",
              "      <td>The</td>\n",
              "      <td>O</td>\n",
              "      <td>The</td>\n",
              "      <td>DT</td>\n",
              "      <td>The</td>\n",
              "      <td>the</td>\n",
              "    </tr>\n",
              "    <tr>\n",
              "      <th>45</th>\n",
              "      <td>facility</td>\n",
              "      <td>O</td>\n",
              "      <td>facility</td>\n",
              "      <td>NN</td>\n",
              "      <td>facility</td>\n",
              "      <td>facil</td>\n",
              "    </tr>\n",
              "    <tr>\n",
              "      <th>46</th>\n",
              "      <td>will</td>\n",
              "      <td>O</td>\n",
              "      <td>will</td>\n",
              "      <td>MD</td>\n",
              "      <td>will</td>\n",
              "      <td>will</td>\n",
              "    </tr>\n",
              "    <tr>\n",
              "      <th>47</th>\n",
              "      <td>enhance</td>\n",
              "      <td>O</td>\n",
              "      <td>enhance</td>\n",
              "      <td>VB</td>\n",
              "      <td>enhance</td>\n",
              "      <td>enhanc</td>\n",
              "    </tr>\n",
              "    <tr>\n",
              "      <th>48</th>\n",
              "      <td>locl</td>\n",
              "      <td>O</td>\n",
              "      <td>local</td>\n",
              "      <td>NN</td>\n",
              "      <td>local</td>\n",
              "      <td>local</td>\n",
              "    </tr>\n",
              "    <tr>\n",
              "      <th>49</th>\n",
              "      <td>dmployment</td>\n",
              "      <td>O</td>\n",
              "      <td>employment</td>\n",
              "      <td>NN</td>\n",
              "      <td>employment</td>\n",
              "      <td>employ</td>\n",
              "    </tr>\n",
              "  </tbody>\n",
              "</table>\n",
              "</div>"
            ],
            "text/plain": [
              "         Token Ner_Label Corrected_Spell  POS      Lemmas      Stems\n",
              "33        ulso         O            also   VB        also       also\n",
              "34       build         O           build   VB       build      build\n",
              "35  Flipkart's         O      Flipkart's  NNP  Flipkart's  flipkart'\n",
              "36    5,34,000         O        5,34,000   CD    5,34,000   5,34,000\n",
              "37          sq         O              sq   NN          sq         sq\n",
              "38          ft         O              ft   NN          ft         ft\n",
              "39  fulfilment         O      fulfilment   NN  fulfilment     fulfil\n",
              "40      centre         O          centre   NN      centre      centr\n",
              "41          in         O              in   IN          in         in\n",
              "42      Mumbai     B-LOC          Mumbai  NNP      Mumbai     mumbai\n",
              "43           .         O               .    .           .          .\n",
              "44         The         O             The   DT         The        the\n",
              "45    facility         O        facility   NN    facility      facil\n",
              "46        will         O            will   MD        will       will\n",
              "47     enhance         O         enhance   VB     enhance     enhanc\n",
              "48        locl         O           local   NN       local      local\n",
              "49  dmployment         O      employment   NN  employment     employ"
            ]
          },
          "metadata": {
            "tags": []
          },
          "execution_count": 51
        }
      ]
    },
    {
      "cell_type": "markdown",
      "metadata": {
        "id": "mlz2WIXgcGzo"
      },
      "source": [
        "In above dataframe if you noticed at index position 33 and 49 the words which are used in paragraphs is wrong (i.e ulso and dmployment). So model is able to identify that mistake and resolve it efficiently."
      ]
    },
    {
      "cell_type": "markdown",
      "metadata": {
        "id": "RE6rmVi1c7VQ"
      },
      "source": [
        "#### Using fullAnnotate to get more details."
      ]
    },
    {
      "cell_type": "code",
      "metadata": {
        "colab": {
          "base_uri": "https://localhost:8080/"
        },
        "id": "sOzF1USYaDZD",
        "outputId": "ac065c70-ccaf-4ff9-88ca-ea27c9349843"
      },
      "source": [
        "detailed_result = pipeline_dl.fullAnnotate(testMsg1)\n",
        "\n",
        "detailed_result[0]['entities']"
      ],
      "execution_count": null,
      "outputs": [
        {
          "output_type": "execute_result",
          "data": {
            "text/plain": [
              "[Annotation(chunk, 1, 12, Peter Parker, {'entity': 'PER', 'sentence': '0', 'chunk': '0'}),\n",
              " Annotation(chunk, 47, 52, Russia, {'entity': 'LOC', 'sentence': '1', 'chunk': '1'}),\n",
              " Annotation(chunk, 74, 77, John, {'entity': 'PER', 'sentence': '2', 'chunk': '2'}),\n",
              " Annotation(chunk, 83, 87, Peter, {'entity': 'PER', 'sentence': '2', 'chunk': '3'}),\n",
              " Annotation(chunk, 151, 163, Mercedes Benz, {'entity': 'ORG', 'sentence': '4', 'chunk': '4'}),\n",
              " Annotation(chunk, 202, 207, Europe, {'entity': 'LOC', 'sentence': '5', 'chunk': '5'})]"
            ]
          },
          "metadata": {
            "tags": []
          },
          "execution_count": 56
        }
      ]
    },
    {
      "cell_type": "markdown",
      "metadata": {
        "id": "8O-ossAOdZ06"
      },
      "source": [
        "#### Creating dataframe with identified chunkes and their entities"
      ]
    },
    {
      "cell_type": "code",
      "metadata": {
        "id": "uL48TVCNdSnd"
      },
      "source": [
        "chunks=[]\n",
        "entities=[]\n",
        "for n in detailed_result[0]['entities']:\n",
        "        \n",
        "  chunks.append(n.result)\n",
        "  entities.append(n.metadata['entity']) "
      ],
      "execution_count": null,
      "outputs": []
    },
    {
      "cell_type": "code",
      "metadata": {
        "colab": {
          "base_uri": "https://localhost:8080/",
          "height": 223
        },
        "id": "Gdf5LOYLdMTq",
        "outputId": "87a0e385-6b31-4f02-e16a-9eef1fb60942"
      },
      "source": [
        "df = pd.DataFrame({'chunks':chunks, 'entities':entities})\n",
        "df"
      ],
      "execution_count": null,
      "outputs": [
        {
          "output_type": "execute_result",
          "data": {
            "text/html": [
              "<div>\n",
              "<style scoped>\n",
              "    .dataframe tbody tr th:only-of-type {\n",
              "        vertical-align: middle;\n",
              "    }\n",
              "\n",
              "    .dataframe tbody tr th {\n",
              "        vertical-align: top;\n",
              "    }\n",
              "\n",
              "    .dataframe thead th {\n",
              "        text-align: right;\n",
              "    }\n",
              "</style>\n",
              "<table border=\"1\" class=\"dataframe\">\n",
              "  <thead>\n",
              "    <tr style=\"text-align: right;\">\n",
              "      <th></th>\n",
              "      <th>chunks</th>\n",
              "      <th>entities</th>\n",
              "    </tr>\n",
              "  </thead>\n",
              "  <tbody>\n",
              "    <tr>\n",
              "      <th>0</th>\n",
              "      <td>Peter Parker</td>\n",
              "      <td>PER</td>\n",
              "    </tr>\n",
              "    <tr>\n",
              "      <th>1</th>\n",
              "      <td>Russia</td>\n",
              "      <td>LOC</td>\n",
              "    </tr>\n",
              "    <tr>\n",
              "      <th>2</th>\n",
              "      <td>John</td>\n",
              "      <td>PER</td>\n",
              "    </tr>\n",
              "    <tr>\n",
              "      <th>3</th>\n",
              "      <td>Peter</td>\n",
              "      <td>PER</td>\n",
              "    </tr>\n",
              "    <tr>\n",
              "      <th>4</th>\n",
              "      <td>Mercedes Benz</td>\n",
              "      <td>ORG</td>\n",
              "    </tr>\n",
              "    <tr>\n",
              "      <th>5</th>\n",
              "      <td>Europe</td>\n",
              "      <td>LOC</td>\n",
              "    </tr>\n",
              "  </tbody>\n",
              "</table>\n",
              "</div>"
            ],
            "text/plain": [
              "          chunks entities\n",
              "0   Peter Parker      PER\n",
              "1         Russia      LOC\n",
              "2           John      PER\n",
              "3          Peter      PER\n",
              "4  Mercedes Benz      ORG\n",
              "5         Europe      LOC"
            ]
          },
          "metadata": {
            "tags": []
          },
          "execution_count": 58
        }
      ]
    },
    {
      "cell_type": "markdown",
      "metadata": {
        "id": "AoOb0U6meIlN"
      },
      "source": [
        "#### Creating data frame with a standard format for later use."
      ]
    },
    {
      "cell_type": "code",
      "metadata": {
        "id": "ilUzIdbIdoWv"
      },
      "source": [
        "tuples = []\n",
        "\n",
        "for x,y,z in zip(detailed_result[0][\"token\"], detailed_result[0][\"pos\"], detailed_result[0][\"ner\"]):\n",
        "\n",
        "  tuples.append((int(x.metadata['sentence']), x.result, x.begin, x.end, y.result, z.result))"
      ],
      "execution_count": null,
      "outputs": []
    },
    {
      "cell_type": "code",
      "metadata": {
        "colab": {
          "base_uri": "https://localhost:8080/",
          "height": 194
        },
        "id": "jb1B7YSUeMso",
        "outputId": "0ec8f8f1-a22d-4ee9-b821-0bfd79ecf428"
      },
      "source": [
        "df = pd.DataFrame(tuples, columns=['sent_id','token','start','end','pos', 'ner'])\n",
        "df.head()"
      ],
      "execution_count": null,
      "outputs": [
        {
          "output_type": "execute_result",
          "data": {
            "text/html": [
              "<div>\n",
              "<style scoped>\n",
              "    .dataframe tbody tr th:only-of-type {\n",
              "        vertical-align: middle;\n",
              "    }\n",
              "\n",
              "    .dataframe tbody tr th {\n",
              "        vertical-align: top;\n",
              "    }\n",
              "\n",
              "    .dataframe thead th {\n",
              "        text-align: right;\n",
              "    }\n",
              "</style>\n",
              "<table border=\"1\" class=\"dataframe\">\n",
              "  <thead>\n",
              "    <tr style=\"text-align: right;\">\n",
              "      <th></th>\n",
              "      <th>sent_id</th>\n",
              "      <th>token</th>\n",
              "      <th>start</th>\n",
              "      <th>end</th>\n",
              "      <th>pos</th>\n",
              "      <th>ner</th>\n",
              "    </tr>\n",
              "  </thead>\n",
              "  <tbody>\n",
              "    <tr>\n",
              "      <th>0</th>\n",
              "      <td>0</td>\n",
              "      <td>Peter</td>\n",
              "      <td>1</td>\n",
              "      <td>5</td>\n",
              "      <td>NNP</td>\n",
              "      <td>B-PER</td>\n",
              "    </tr>\n",
              "    <tr>\n",
              "      <th>1</th>\n",
              "      <td>0</td>\n",
              "      <td>Parker</td>\n",
              "      <td>7</td>\n",
              "      <td>12</td>\n",
              "      <td>NNP</td>\n",
              "      <td>I-PER</td>\n",
              "    </tr>\n",
              "    <tr>\n",
              "      <th>2</th>\n",
              "      <td>0</td>\n",
              "      <td>is</td>\n",
              "      <td>14</td>\n",
              "      <td>15</td>\n",
              "      <td>VBZ</td>\n",
              "      <td>O</td>\n",
              "    </tr>\n",
              "    <tr>\n",
              "      <th>3</th>\n",
              "      <td>0</td>\n",
              "      <td>a</td>\n",
              "      <td>17</td>\n",
              "      <td>17</td>\n",
              "      <td>DT</td>\n",
              "      <td>O</td>\n",
              "    </tr>\n",
              "    <tr>\n",
              "      <th>4</th>\n",
              "      <td>0</td>\n",
              "      <td>very</td>\n",
              "      <td>19</td>\n",
              "      <td>22</td>\n",
              "      <td>RB</td>\n",
              "      <td>O</td>\n",
              "    </tr>\n",
              "  </tbody>\n",
              "</table>\n",
              "</div>"
            ],
            "text/plain": [
              "   sent_id   token  start  end  pos    ner\n",
              "0        0   Peter      1    5  NNP  B-PER\n",
              "1        0  Parker      7   12  NNP  I-PER\n",
              "2        0      is     14   15  VBZ      O\n",
              "3        0       a     17   17   DT      O\n",
              "4        0    very     19   22   RB      O"
            ]
          },
          "metadata": {
            "tags": []
          },
          "execution_count": 62
        }
      ]
    },
    {
      "cell_type": "code",
      "metadata": {
        "id": "pgZxFvMheOjQ"
      },
      "source": [
        ""
      ],
      "execution_count": null,
      "outputs": []
    }
  ]
}